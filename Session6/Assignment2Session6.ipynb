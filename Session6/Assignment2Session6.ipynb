{
 "cells": [
  {
   "cell_type": "code",
   "execution_count": 2,
   "metadata": {},
   "outputs": [],
   "source": [
    "import Session6Part2\n"
   ]
  },
  {
   "cell_type": "code",
   "execution_count": 30,
   "metadata": {},
   "outputs": [
    {
     "name": "stdout",
     "output_type": "stream",
     "text": [
      "1. Checing for FIbonacci\n"
     ]
    }
   ],
   "source": [
    "print(\"1. Checing for FIbonacci\")"
   ]
  },
  {
   "cell_type": "code",
   "execution_count": 3,
   "metadata": {},
   "outputs": [
    {
     "name": "stdout",
     "output_type": "stream",
     "text": [
      "Number is a Fibonacci\n"
     ]
    }
   ],
   "source": [
    "print(Session6Part2.check_fibonacci([987]))"
   ]
  },
  {
   "cell_type": "code",
   "execution_count": 4,
   "metadata": {},
   "outputs": [
    {
     "name": "stdout",
     "output_type": "stream",
     "text": [
      "Number is not a Fibonacci\n"
     ]
    }
   ],
   "source": [
    "print(Session6Part2.check_fibonacci([989]))"
   ]
  },
  {
   "cell_type": "code",
   "execution_count": 29,
   "metadata": {},
   "outputs": [
    {
     "name": "stdout",
     "output_type": "stream",
     "text": [
      "3. checking for profanity\n"
     ]
    }
   ],
   "source": [
    "print(\"3. checking for profanity\")"
   ]
  },
  {
   "cell_type": "code",
   "execution_count": 7,
   "metadata": {},
   "outputs": [
    {
     "name": "stdout",
     "output_type": "stream",
     "text": [
      "parlimentary text\n"
     ]
    }
   ],
   "source": [
    "print(Session6Part2.check_profanity(paragraph=\"There are 2 apples for 4 persons\"))"
   ]
  },
  {
   "cell_type": "code",
   "execution_count": 10,
   "metadata": {},
   "outputs": [
    {
     "name": "stdout",
     "output_type": "stream",
     "text": [
      "not a parlimentary text\n"
     ]
    }
   ],
   "source": [
    "print(Session6Part2.check_profanity(paragraph=\"There are 2 ass## for 4 persons\"))"
   ]
  },
  {
   "cell_type": "code",
   "execution_count": 24,
   "metadata": {},
   "outputs": [
    {
     "name": "stdout",
     "output_type": "stream",
     "text": [
      "2.1 add two iterables\n"
     ]
    }
   ],
   "source": [
    "print(\"2.1 add two iterables\")"
   ]
  },
  {
   "cell_type": "code",
   "execution_count": 12,
   "metadata": {},
   "outputs": [
    {
     "name": "stdout",
     "output_type": "stream",
     "text": [
      "[0, 9, 0, 13, 0]\n"
     ]
    }
   ],
   "source": [
    "print(Session6Part2.addtwoiterables([1,2,3,4,5],[6,7,8,9,10]))"
   ]
  },
  {
   "cell_type": "code",
   "execution_count": 25,
   "metadata": {},
   "outputs": [
    {
     "name": "stdout",
     "output_type": "stream",
     "text": [
      "2.2remove Vowels\n"
     ]
    }
   ],
   "source": [
    "print(\"2.2remove Vowels\")"
   ]
  },
  {
   "cell_type": "code",
   "execution_count": 15,
   "metadata": {},
   "outputs": [
    {
     "name": "stdout",
     "output_type": "stream",
     "text": [
      "hll my nd\n"
     ]
    }
   ],
   "source": [
    "print(Session6Part2.removevowel('hello my India'))"
   ]
  },
  {
   "cell_type": "code",
   "execution_count": 27,
   "metadata": {},
   "outputs": [
    {
     "name": "stdout",
     "output_type": "stream",
     "text": [
      "2.3 cycliccharacters\n"
     ]
    }
   ],
   "source": [
    "print(\"2.3 cycliccharacters\")"
   ]
  },
  {
   "cell_type": "code",
   "execution_count": 18,
   "metadata": {},
   "outputs": [
    {
     "name": "stdout",
     "output_type": "stream",
     "text": [
      "yxfne\n"
     ]
    }
   ],
   "source": [
    "print(Session6Part2.cycliccharacter(\"tsaiz\"))"
   ]
  },
  {
   "cell_type": "code",
   "execution_count": 28,
   "metadata": {},
   "outputs": [
    {
     "name": "stdout",
     "output_type": "stream",
     "text": [
      "2.4 sigmoid function of a list\n"
     ]
    }
   ],
   "source": [
    "print(\"2.4 sigmoid function of a list\")"
   ]
  },
  {
   "cell_type": "code",
   "execution_count": 20,
   "metadata": {},
   "outputs": [
    {
     "name": "stdout",
     "output_type": "stream",
     "text": [
      "[0.7310585786300049, 0.8807970779778823, 0.9525741268224334, 0.9933071490757153]\n"
     ]
    }
   ],
   "source": [
    "print(Session6Part2.sigmoidfunction([1,2,3,5]))"
   ]
  },
  {
   "cell_type": "code",
   "execution_count": 23,
   "metadata": {},
   "outputs": [
    {
     "name": "stdout",
     "output_type": "stream",
     "text": [
      "4. usage reduce functions\n"
     ]
    }
   ],
   "source": [
    "print(\"4. usage reduce functions\")"
   ]
  },
  {
   "cell_type": "code",
   "execution_count": 32,
   "metadata": {},
   "outputs": [
    {
     "name": "stdout",
     "output_type": "stream",
     "text": [
      "4.1 add only even numbers from the list\n"
     ]
    }
   ],
   "source": [
    "print(\"4.1 add only even numbers from the list\")"
   ]
  },
  {
   "cell_type": "code",
   "execution_count": 33,
   "metadata": {},
   "outputs": [
    {
     "name": "stdout",
     "output_type": "stream",
     "text": [
      "26\n"
     ]
    }
   ],
   "source": [
    "print(Session6Part2.addevennumber([1, 3, 6, 7, 2,4,6,8,9, 25]))"
   ]
  },
  {
   "cell_type": "code",
   "execution_count": 34,
   "metadata": {},
   "outputs": [
    {
     "name": "stdout",
     "output_type": "stream",
     "text": [
      "4.2 find biggest character in a string\n"
     ]
    }
   ],
   "source": [
    "print(\"4.2 find biggest character in a string\")"
   ]
  },
  {
   "cell_type": "code",
   "execution_count": 35,
   "metadata": {},
   "outputs": [
    {
     "name": "stdout",
     "output_type": "stream",
     "text": [
      "x\n"
     ]
    }
   ],
   "source": [
    "print(Session6Part2.findbigbyascii(\"hexllo dei vaad#a PODA mamaa\"))"
   ]
  },
  {
   "cell_type": "code",
   "execution_count": 36,
   "metadata": {},
   "outputs": [
    {
     "name": "stdout",
     "output_type": "stream",
     "text": [
      "4.3 Add third number from a list\n"
     ]
    }
   ],
   "source": [
    "print(\"4.3 Add third number from a list\")"
   ]
  },
  {
   "cell_type": "code",
   "execution_count": 37,
   "metadata": {},
   "outputs": [
    {
     "name": "stdout",
     "output_type": "stream",
     "text": [
      "423\n"
     ]
    }
   ],
   "source": [
    "print(Session6Part2.addthirdnumberinalist([1, 3, 6, 7, 2,105,100,101,103,400,300,209]))"
   ]
  },
  {
   "cell_type": "code",
   "execution_count": 38,
   "metadata": {},
   "outputs": [
    {
     "name": "stdout",
     "output_type": "stream",
     "text": [
      "5. Number Plate\n"
     ]
    }
   ],
   "source": [
    "print(\"5. Number Plate\")"
   ]
  },
  {
   "cell_type": "code",
   "execution_count": 39,
   "metadata": {},
   "outputs": [
    {
     "name": "stdout",
     "output_type": "stream",
     "text": [
      "['KA39QJ2486', 'KA96EA8259', 'KA49XH3793', 'KA50VR9377', 'KA49JA9352', 'KA97XM1898', 'KA95XG8754', 'KA41RW7157', 'KA73RT6907', 'KA18AK6722', 'KA57QI9994', 'KA24ZX3065', 'KA75TF4676', 'KA31KY7929', 'KA17VB1843']\n"
     ]
    }
   ],
   "source": [
    "print(Session6Part2.numberplategen(10,99,1000,9999,'KA'))"
   ]
  },
  {
   "cell_type": "code",
   "execution_count": 40,
   "metadata": {},
   "outputs": [
    {
     "name": "stdout",
     "output_type": "stream",
     "text": [
      "6. Number plate with partial function\n"
     ]
    }
   ],
   "source": [
    "print(\"6. Number plate with partial function\")"
   ]
  },
  {
   "cell_type": "code",
   "execution_count": 42,
   "metadata": {},
   "outputs": [
    {
     "name": "stdout",
     "output_type": "stream",
     "text": [
      "['DL75OE6312', 'DL93LN5898', 'DL35QQ1707', 'DL51RM9060', 'DL39ZP2520', 'DL84ZH6462', 'DL20RE1260', 'DL96DO7480', 'DL43UX7524', 'DL79PQ6792', 'DL94GK8286', 'DL63HB8650', 'DL65QS2468', 'DL27VX4266', 'DL55TI8121']\n",
      "['KA44YK2509', 'KA40IP3388', 'KA36GS6640', 'KA93TV8574', 'KA37JC1304', 'KA50IL3097', 'KA79NE1308', 'KA27RU2578', 'KA66PE5438', 'KA39PU5930', 'KA38SX7039', 'KA54TZ3596', 'KA10GT9184', 'KA12VZ6285', 'KA69LD8262']\n"
     ]
    }
   ],
   "source": [
    "f = Session6Part2.partial(Session6Part2.numberplategen,10,99,1000,9999)\n",
    "print(f('DL'))\n",
    "print(f('KA'))"
   ]
  },
  {
   "cell_type": "code",
   "execution_count": null,
   "metadata": {},
   "outputs": [],
   "source": []
  }
 ],
 "metadata": {
  "kernelspec": {
   "display_name": "Python 3",
   "language": "python",
   "name": "python3"
  },
  "language_info": {
   "codemirror_mode": {
    "name": "ipython",
    "version": 3
   },
   "file_extension": ".py",
   "mimetype": "text/x-python",
   "name": "python",
   "nbconvert_exporter": "python",
   "pygments_lexer": "ipython3",
   "version": "3.6.5"
  }
 },
 "nbformat": 4,
 "nbformat_minor": 2
}
